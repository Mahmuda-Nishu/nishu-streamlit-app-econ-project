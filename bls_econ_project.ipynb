{
  "nbformat": 4,
  "nbformat_minor": 0,
  "metadata": {
    "colab": {
      "provenance": []
    },
    "kernelspec": {
      "name": "python3",
      "display_name": "Python 3"
    },
    "language_info": {
      "name": "python"
    }
  },
  "cells": [
    {
      "cell_type": "code",
      "execution_count": 1,
      "metadata": {
        "colab": {
          "base_uri": "https://localhost:8080/"
        },
        "id": "ci3XTqLemCuH",
        "outputId": "38c3b3df-cb30-4d9c-bb7e-09728031ec13"
      },
      "outputs": [
        {
          "output_type": "stream",
          "name": "stdout",
          "text": [
            "Data fetched successfully!\n",
            "Data processed and saved as 'bls_data_combined.csv'\n"
          ]
        }
      ],
      "source": [
        "import requests\n",
        "import pandas as pd\n",
        "import json\n",
        "\n",
        "# BLS API Configuration\n",
        "API_KEY = 'c16ee0e2c0254295a624f21454282715'  # API Key\n",
        "BLS_URL = \"https://api.bls.gov/publicAPI/v2/timeseries/data/\"\n",
        "HEADERS = {'Content-type': 'application/json'}\n",
        "\n",
        "# Define the series IDs and payload\n",
        "SERIES_IDS = [\n",
        "    \"CES0000000001\",  # Total Non-Farm Workers\n",
        "    \"LNS14000000\",    # Unemployment Rate\n",
        "    \"CES0500000003\",  # Average Weekly Hours of Production Employees\n",
        "    \"CES3000000001\",  # Manufacturing Employment\n",
        "    \"LNS14100000\"     # Employment-Population Ratio\n",
        "]\n",
        "\n",
        "payload = {\n",
        "    \"seriesid\": SERIES_IDS,\n",
        "    \"startyear\": \"2022\",\n",
        "    \"endyear\": \"2023\",\n",
        "    \"registrationkey\": API_KEY\n",
        "}\n",
        "\n",
        "# Fetch data from the API\n",
        "try:\n",
        "    response = requests.post(BLS_URL, json=payload, headers=HEADERS)\n",
        "    response.raise_for_status()\n",
        "    json_data = response.json()\n",
        "    print(\"Data fetched successfully!\")\n",
        "\n",
        "    # Save the raw response for debugging\n",
        "    with open(\"raw_bls_response.json\", \"w\") as f:\n",
        "        json.dump(json_data, f, indent=4)\n",
        "\n",
        "except requests.exceptions.RequestException as e:\n",
        "    print(f\"Error fetching data from BLS API: {e}\")\n",
        "\n",
        "# Function to process the BLS data\n",
        "def process_bls_data(json_data):\n",
        "    series_list = []\n",
        "\n",
        "    # Ensure the response contains the 'series' key\n",
        "    if 'Results' in json_data and 'series' in json_data['Results']:\n",
        "        for series in json_data['Results']['series']:\n",
        "            series_id = series['seriesID']\n",
        "            for entry in series['data']:\n",
        "                series_list.append({\n",
        "                    \"series_id\": series_id,\n",
        "                    \"year\": entry['year'],\n",
        "                    \"period\": entry['period'],\n",
        "                    \"period_name\": entry['periodName'],\n",
        "                    \"value\": float(entry['value']),  # Convert value to float\n",
        "                })\n",
        "\n",
        "    # Create a DataFrame and format it\n",
        "    df = pd.DataFrame(series_list)\n",
        "    df['year_month'] = df['year'] + '-' + df['period'].str[1:]\n",
        "    df = df[['series_id', 'year_month', 'value', 'year', 'period', 'period_name']]\n",
        "\n",
        "    # Save to CSV\n",
        "    df.to_csv(\"bls_data_combined.csv\", index=False)\n",
        "    print(\"Data processed and saved as 'bls_data_combined.csv'\")\n",
        "    return df\n",
        "\n",
        "# Process the fetched data\n",
        "df = process_bls_data(json_data)\n"
      ]
    }
  ]
}